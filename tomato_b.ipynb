{
  "nbformat": 4,
  "nbformat_minor": 0,
  "metadata": {
    "colab": {
      "provenance": []
    },
    "kernelspec": {
      "name": "python3",
      "display_name": "Python 3"
    },
    "language_info": {
      "name": "python"
    }
  },
  "cells": [
    {
      "cell_type": "code",
      "execution_count": null,
      "metadata": {
        "id": "09jObcS8xASG"
      },
      "outputs": [],
      "source": [
        "import tensorflow as tf\n",
        "import os\n",
        "import numpy as np\n",
        "from matplotlib import pyplot as plt\n",
        "from keras.preprocessing.image import ImageDataGenerator\n",
        "import cv2\n",
        "import imghdr"
      ]
    },
    {
      "cell_type": "code",
      "source": [
        "from google.colab import drive\n",
        "drive.mount('/content/drive')"
      ],
      "metadata": {
        "colab": {
          "base_uri": "https://localhost:8080/"
        },
        "id": "bZgkpJqOxGzk",
        "outputId": "02620d4d-62e8-49d6-e709-931f0335245b"
      },
      "execution_count": null,
      "outputs": [
        {
          "output_type": "stream",
          "name": "stdout",
          "text": [
            "Mounted at /content/drive\n"
          ]
        }
      ]
    },
    {
      "cell_type": "code",
      "source": [
        "\n"
      ],
      "metadata": {
        "id": "upPYw5z50zZ4"
      },
      "execution_count": null,
      "outputs": []
    },
    {
      "cell_type": "code",
      "source": [
        "datagen = ImageDataGenerator(\n",
        "        rotation_range=45,     #Random rotation between 0 and 45\n",
        "        width_shift_range=0.2,   #% shift\n",
        "        height_shift_range=0.2,\n",
        "        shear_range=0.2,\n",
        "        zoom_range=0.2,\n",
        "        horizontal_flip=True,\n",
        "        fill_mode='reflect')    #Also try nearest, constant, reflect, wrap"
      ],
      "metadata": {
        "id": "yjz-PinkxX7m"
      },
      "execution_count": null,
      "outputs": []
    },
    {
      "cell_type": "code",
      "source": [
        "# Avoid OOM errors by setting GPU Memory Consumption Growth\n",
        "gpus = tf.config.experimental.list_physical_devices('GPU')\n",
        "for gpu in gpus:\n",
        "    tf.config.experimental.set_memory_growth(gpu, True)"
      ],
      "metadata": {
        "id": "kWdGYBw-xY9W"
      },
      "execution_count": null,
      "outputs": []
    },
    {
      "cell_type": "code",
      "source": [
        "tf.config.list_physical_devices('GPU')"
      ],
      "metadata": {
        "colab": {
          "base_uri": "https://localhost:8080/"
        },
        "id": "dBXrcmKlyHpV",
        "outputId": "879c60bc-8ae9-469e-dbe4-c15ff909f018"
      },
      "execution_count": null,
      "outputs": [
        {
          "output_type": "execute_result",
          "data": {
            "text/plain": [
              "[]"
            ]
          },
          "metadata": {},
          "execution_count": 5
        }
      ]
    },
    {
      "cell_type": "code",
      "source": [
        "SIZE = 150\n",
        "###2 conv and pool layers. with some normalization and drops in between.\n",
        "\n",
        "INPUT_SHAPE = (SIZE, SIZE, 3)   #change to (SIZE, SIZE, 3)"
      ],
      "metadata": {
        "id": "iJO0L9hMyPiA"
      },
      "execution_count": null,
      "outputs": []
    },
    {
      "cell_type": "code",
      "source": [],
      "metadata": {
        "colab": {
          "base_uri": "https://localhost:8080/"
        },
        "id": "cUQh7UqZyXlH",
        "outputId": "262e382d-b87f-41aa-ef09-93922f697b97"
      },
      "execution_count": null,
      "outputs": [
        {
          "output_type": "stream",
          "name": "stdout",
          "text": [
            "Found 1293 files belonging to 5 classes.\n"
          ]
        }
      ]
    },
    {
      "cell_type": "code",
      "source": [
        "data_iterator = data.as_numpy_iterator()\n",
        "batch = data_iterator.next()"
      ],
      "metadata": {
        "id": "LNU3cOZMyeo3"
      },
      "execution_count": null,
      "outputs": []
    },
    {
      "cell_type": "code",
      "source": [
        "image_directory = '/content/drive/MyDrive/daniel/others/'\n",
        "SIZE = 150\n",
        "dataset = []\n",
        "\n",
        "my_images = os.listdir(image_directory)\n",
        "for i, image_name in enumerate(my_images):\n",
        "    if (image_name.split('.')[1] == 'jpg'):\n",
        "        image = io.imread(image_directory + image_name)\n",
        "        image = Image.fromarray(image, 'RGB')\n",
        "        image = image.resize((SIZE,SIZE))\n",
        "        dataset.append(np.array(image))\n",
        "\n",
        "x = np.array(dataset)"
      ],
      "metadata": {
        "id": "GXYoxW2nzZD6"
      },
      "execution_count": null,
      "outputs": []
    },
    {
      "cell_type": "code",
      "source": [
        "from PIL import Image\n",
        "def read_and_save_images(folder_path, folder_path1):\n",
        "   \"\"\"Reads images in a folder, saves them with sequential filenames, and optionally\n",
        "      converts them to a specified format.\n",
        "\n",
        "   Args:\n",
        "       folder_path (str): Path to the folder containing the images.\n",
        "       target_format (str, optional): Desired image format (e.g., \"JPEG\", \"PNG\").\n",
        "           Defaults to None, preserving the original format.\n",
        "   \"\"\"\n",
        "\n",
        "   index = 0\n",
        "   for filename in os.listdir(folder_path):\n",
        "       if filename.endswith((\".jpg\", \".jpeg\", \".png\", \".JPG\")):  # Check for common image extensions\n",
        "           filepath = os.path.join(folder_path, filename)\n",
        "           try:\n",
        "               with Image.open(filepath) as image:\n",
        "                   new_filename = f\"{index}.jpg\"  # Change to desired format if needed\n",
        "                   new_filepath = os.path.join(folder_path1, new_filename)\n",
        "                   image.save(new_filepath)\n",
        "                   index += 1\n",
        "           except Exception as e:\n",
        "               print(f\"Error processing {filename}: {e}\")\n",
        "\n",
        "# Example usage:\n",
        "folder_path = \"/content/drive/MyDrive/daniel/others\"  # Replace with your actual folder path\n",
        "folder_path1 = \"/content/drive/MyDrive/daniel/others1\"\n",
        "read_and_save_images(folder_path,folder_path1)"
      ],
      "metadata": {
        "id": "nxfUQuq25GoC"
      },
      "execution_count": null,
      "outputs": []
    },
    {
      "cell_type": "code",
      "source": [
        "from skimage import io\n",
        "image_directory = '/content/drive/MyDrive/daniel/others1/'\n",
        "SIZE = 128\n",
        "dataset = []\n",
        "\n",
        "my_images = os.listdir(image_directory)\n",
        "for i, image_name in enumerate(my_images):\n",
        "    if (image_name.split('.')[1] == 'jpg'):\n",
        "        image = io.imread(image_directory + image_name)\n",
        "        image = Image.fromarray(image, 'RGB')\n",
        "        image = image.resize((SIZE,SIZE))\n",
        "        dataset.append(np.array(image))\n",
        "\n",
        "x = np.array(dataset)\n",
        "\n",
        "i = 0\n",
        "for batch in datagen.flow(x, batch_size=16,\n",
        "                          save_to_dir='/content/drive/MyDrive/daniel/data/Aug_others',\n",
        "                          save_prefix='aug',\n",
        "                          save_format='png'):\n",
        "    i += 1\n",
        "    if i > 20:\n",
        "        break  # otherwise the generator would loop indefinitely"
      ],
      "metadata": {
        "id": "0-IXOdKZ9RSZ"
      },
      "execution_count": null,
      "outputs": []
    },
    {
      "cell_type": "code",
      "source": [],
      "metadata": {
        "id": "qwHKuBXA9RBd"
      },
      "execution_count": null,
      "outputs": []
    },
    {
      "cell_type": "code",
      "source": [
        "#data = tf.keras.utils.image_dataset_from_directory('/content/ImageClassification/data')\n",
        "data = tf.keras.utils.image_dataset_from_directory('/content/drive/MyDrive/daniel/data',image_size=(150, 150))"
      ],
      "metadata": {
        "colab": {
          "base_uri": "https://localhost:8080/"
        },
        "id": "srj2JzCjAQEv",
        "outputId": "daac425b-3702-41be-9c5c-083a5b841257"
      },
      "execution_count": null,
      "outputs": [
        {
          "output_type": "stream",
          "name": "stdout",
          "text": [
            "Found 1629 files belonging to 6 classes.\n"
          ]
        }
      ]
    },
    {
      "cell_type": "code",
      "source": [
        "data_iterator = data.as_numpy_iterator()\n",
        "batch = data_iterator.next()"
      ],
      "metadata": {
        "id": "zenMiTrVATbF"
      },
      "execution_count": null,
      "outputs": []
    },
    {
      "cell_type": "code",
      "source": [
        "from tensorflow.keras.utils import to_categorical\n",
        "data = data.map(lambda x, y: (x / 255, tf.one_hot(y, depth=6)))  # Assuming 6 classes"
      ],
      "metadata": {
        "id": "Ea-vFKQ3AoTv"
      },
      "execution_count": null,
      "outputs": []
    },
    {
      "cell_type": "code",
      "source": [],
      "metadata": {
        "id": "_socXhXwBNZV"
      },
      "execution_count": null,
      "outputs": []
    },
    {
      "cell_type": "code",
      "source": [
        "train_size = int(len(data)*.7)\n",
        "val_size = int(len(data)*.2)\n",
        "test_size = int(len(data)*.1)\n",
        "train = data.take(train_size)\n",
        "val = data.skip(train_size).take(val_size)\n",
        "test = data.skip(train_size+val_size).take(test_size)\n"
      ],
      "metadata": {
        "id": "gHUuNzuZBNWT"
      },
      "execution_count": null,
      "outputs": []
    },
    {
      "cell_type": "code",
      "source": [
        "first_batch = next(iter(train))  # Get the first batch of data\n",
        "images, labels = first_batch  # Separate images and labels"
      ],
      "metadata": {
        "id": "KCFJ3k_iBNIM"
      },
      "execution_count": null,
      "outputs": []
    },
    {
      "cell_type": "code",
      "source": [
        "train"
      ],
      "metadata": {
        "colab": {
          "base_uri": "https://localhost:8080/"
        },
        "id": "vXn7_LQfBnt7",
        "outputId": "7339ceca-9efa-4a27-ff3a-036467311fbc"
      },
      "execution_count": null,
      "outputs": [
        {
          "output_type": "execute_result",
          "data": {
            "text/plain": [
              "<_TakeDataset element_spec=(TensorSpec(shape=(None, 150, 150, 3), dtype=tf.float32, name=None), TensorSpec(shape=(None, 6), dtype=tf.float32, name=None))>"
            ]
          },
          "metadata": {},
          "execution_count": 12
        }
      ]
    },
    {
      "cell_type": "code",
      "source": [
        "from tensorflow.keras.models import Sequential\n",
        "from tensorflow.keras.layers import Conv2D, MaxPooling2D, Dense, Flatten, Dropout\n",
        "model = Sequential()\n",
        "model.add(Conv2D(16, (3,3), 1, activation='relu', input_shape=(150,150,3)))\n",
        "model.add(MaxPooling2D())\n",
        "model.add(Conv2D(32, (3,3), 1, activation='relu'))\n",
        "model.add(MaxPooling2D())\n",
        "model.add(Conv2D(16, (3,3), 1, activation='relu'))\n",
        "model.add(MaxPooling2D())\n",
        "model.add(Flatten())\n",
        "model.add(Dense(256, activation='relu'))\n",
        "model.add(Dense(6, activation='softmax'))\n",
        "model.compile('adam', loss=tf.keras.losses.categorical_crossentropy, metrics=['accuracy'])"
      ],
      "metadata": {
        "id": "Kk3vpD2CBwQ_"
      },
      "execution_count": null,
      "outputs": []
    },
    {
      "cell_type": "code",
      "source": [
        "model.summary()"
      ],
      "metadata": {
        "colab": {
          "base_uri": "https://localhost:8080/"
        },
        "id": "rzkqdZsOB-rX",
        "outputId": "1907cea8-c8d0-49a1-aa86-6c07556970f3"
      },
      "execution_count": null,
      "outputs": [
        {
          "output_type": "stream",
          "name": "stdout",
          "text": [
            "Model: \"sequential\"\n",
            "_________________________________________________________________\n",
            " Layer (type)                Output Shape              Param #   \n",
            "=================================================================\n",
            " conv2d (Conv2D)             (None, 148, 148, 16)      448       \n",
            "                                                                 \n",
            " max_pooling2d (MaxPooling2  (None, 74, 74, 16)        0         \n",
            " D)                                                              \n",
            "                                                                 \n",
            " conv2d_1 (Conv2D)           (None, 72, 72, 32)        4640      \n",
            "                                                                 \n",
            " max_pooling2d_1 (MaxPoolin  (None, 36, 36, 32)        0         \n",
            " g2D)                                                            \n",
            "                                                                 \n",
            " conv2d_2 (Conv2D)           (None, 34, 34, 16)        4624      \n",
            "                                                                 \n",
            " max_pooling2d_2 (MaxPoolin  (None, 17, 17, 16)        0         \n",
            " g2D)                                                            \n",
            "                                                                 \n",
            " flatten (Flatten)           (None, 4624)              0         \n",
            "                                                                 \n",
            " dense (Dense)               (None, 256)               1184000   \n",
            "                                                                 \n",
            " dense_1 (Dense)             (None, 6)                 1542      \n",
            "                                                                 \n",
            "=================================================================\n",
            "Total params: 1195254 (4.56 MB)\n",
            "Trainable params: 1195254 (4.56 MB)\n",
            "Non-trainable params: 0 (0.00 Byte)\n",
            "_________________________________________________________________\n"
          ]
        }
      ]
    },
    {
      "cell_type": "code",
      "source": [],
      "metadata": {
        "id": "4dIIW_pwCJAO"
      },
      "execution_count": null,
      "outputs": []
    },
    {
      "cell_type": "code",
      "source": [
        "logdir='logs'\n",
        "tensorboard_callback = tf.keras.callbacks.TensorBoard(log_dir=logdir)\n",
        "hist = model.fit(train, epochs=30, validation_data=val, callbacks=[tensorboard_callback])"
      ],
      "metadata": {
        "colab": {
          "base_uri": "https://localhost:8080/"
        },
        "id": "kD3krHF_CZ0T",
        "outputId": "7bbcafcb-69cc-4f5a-e08f-acf43b8c8c25"
      },
      "execution_count": null,
      "outputs": [
        {
          "output_type": "stream",
          "name": "stdout",
          "text": [
            "Epoch 1/30\n",
            "35/35 [==============================] - 31s 832ms/step - loss: 1.4682 - accuracy: 0.3375 - val_loss: 1.0958 - val_accuracy: 0.4625\n",
            "Epoch 2/30\n",
            "35/35 [==============================] - 33s 930ms/step - loss: 0.8486 - accuracy: 0.6759 - val_loss: 0.8285 - val_accuracy: 0.6844\n",
            "Epoch 3/30\n",
            "35/35 [==============================] - 34s 955ms/step - loss: 0.6047 - accuracy: 0.7982 - val_loss: 0.5350 - val_accuracy: 0.8062\n",
            "Epoch 4/30\n",
            "35/35 [==============================] - 27s 752ms/step - loss: 0.5285 - accuracy: 0.7902 - val_loss: 0.5934 - val_accuracy: 0.7625\n",
            "Epoch 5/30\n",
            "35/35 [==============================] - 28s 757ms/step - loss: 0.4502 - accuracy: 0.8375 - val_loss: 0.4012 - val_accuracy: 0.8438\n",
            "Epoch 6/30\n",
            "35/35 [==============================] - 29s 810ms/step - loss: 0.3663 - accuracy: 0.8598 - val_loss: 0.5737 - val_accuracy: 0.7937\n",
            "Epoch 7/30\n",
            "35/35 [==============================] - 29s 823ms/step - loss: 0.3075 - accuracy: 0.8884 - val_loss: 0.4517 - val_accuracy: 0.8375\n",
            "Epoch 8/30\n",
            "35/35 [==============================] - 29s 791ms/step - loss: 0.1957 - accuracy: 0.9348 - val_loss: 0.4413 - val_accuracy: 0.8375\n",
            "Epoch 9/30\n",
            "35/35 [==============================] - 30s 859ms/step - loss: 0.1421 - accuracy: 0.9652 - val_loss: 0.4929 - val_accuracy: 0.8188\n",
            "Epoch 10/30\n",
            "35/35 [==============================] - 33s 949ms/step - loss: 0.1618 - accuracy: 0.9446 - val_loss: 0.3019 - val_accuracy: 0.9125\n",
            "Epoch 11/30\n",
            "35/35 [==============================] - 29s 825ms/step - loss: 0.1336 - accuracy: 0.9545 - val_loss: 0.3729 - val_accuracy: 0.8813\n",
            "Epoch 12/30\n",
            "35/35 [==============================] - 29s 803ms/step - loss: 0.1096 - accuracy: 0.9670 - val_loss: 0.7457 - val_accuracy: 0.7781\n",
            "Epoch 13/30\n",
            "35/35 [==============================] - 27s 742ms/step - loss: 0.1448 - accuracy: 0.9491 - val_loss: 0.4137 - val_accuracy: 0.8750\n",
            "Epoch 14/30\n",
            "35/35 [==============================] - 31s 838ms/step - loss: 0.0539 - accuracy: 0.9866 - val_loss: 0.2443 - val_accuracy: 0.9344\n",
            "Epoch 15/30\n",
            "35/35 [==============================] - 29s 829ms/step - loss: 0.0306 - accuracy: 0.9946 - val_loss: 0.3174 - val_accuracy: 0.9219\n",
            "Epoch 16/30\n",
            "35/35 [==============================] - 33s 934ms/step - loss: 0.0201 - accuracy: 0.9973 - val_loss: 0.5038 - val_accuracy: 0.9062\n",
            "Epoch 17/30\n",
            "35/35 [==============================] - 29s 797ms/step - loss: 0.0361 - accuracy: 0.9911 - val_loss: 0.3958 - val_accuracy: 0.9062\n",
            "Epoch 18/30\n",
            "35/35 [==============================] - 29s 827ms/step - loss: 0.0176 - accuracy: 0.9964 - val_loss: 0.2924 - val_accuracy: 0.9187\n",
            "Epoch 19/30\n",
            "35/35 [==============================] - 33s 929ms/step - loss: 0.0090 - accuracy: 1.0000 - val_loss: 0.2621 - val_accuracy: 0.9469\n",
            "Epoch 20/30\n",
            "35/35 [==============================] - 33s 928ms/step - loss: 0.0080 - accuracy: 1.0000 - val_loss: 0.3718 - val_accuracy: 0.9187\n",
            "Epoch 21/30\n",
            "35/35 [==============================] - 33s 929ms/step - loss: 0.0030 - accuracy: 1.0000 - val_loss: 0.3608 - val_accuracy: 0.9312\n",
            "Epoch 22/30\n",
            "35/35 [==============================] - 33s 942ms/step - loss: 0.0018 - accuracy: 1.0000 - val_loss: 0.3462 - val_accuracy: 0.9250\n",
            "Epoch 23/30\n",
            "35/35 [==============================] - 28s 776ms/step - loss: 0.0015 - accuracy: 1.0000 - val_loss: 0.3632 - val_accuracy: 0.9312\n",
            "Epoch 24/30\n",
            "35/35 [==============================] - 28s 773ms/step - loss: 0.0012 - accuracy: 1.0000 - val_loss: 0.2545 - val_accuracy: 0.9500\n",
            "Epoch 25/30\n",
            "35/35 [==============================] - 29s 821ms/step - loss: 9.6937e-04 - accuracy: 1.0000 - val_loss: 0.4214 - val_accuracy: 0.9281\n",
            "Epoch 26/30\n",
            "35/35 [==============================] - 27s 765ms/step - loss: 9.2829e-04 - accuracy: 1.0000 - val_loss: 0.3793 - val_accuracy: 0.9312\n",
            "Epoch 27/30\n",
            "35/35 [==============================] - 28s 757ms/step - loss: 0.0015 - accuracy: 0.9991 - val_loss: 0.4402 - val_accuracy: 0.9125\n",
            "Epoch 28/30\n",
            "35/35 [==============================] - 29s 832ms/step - loss: 0.1970 - accuracy: 0.9357 - val_loss: 0.5330 - val_accuracy: 0.8469\n",
            "Epoch 29/30\n",
            "35/35 [==============================] - 27s 767ms/step - loss: 0.1291 - accuracy: 0.9500 - val_loss: 0.3476 - val_accuracy: 0.9094\n",
            "Epoch 30/30\n",
            "35/35 [==============================] - 29s 780ms/step - loss: 0.0449 - accuracy: 0.9866 - val_loss: 0.3142 - val_accuracy: 0.9250\n"
          ]
        }
      ]
    },
    {
      "cell_type": "code",
      "source": [],
      "metadata": {
        "id": "9h4rZ5LbCjLa"
      },
      "execution_count": null,
      "outputs": []
    },
    {
      "cell_type": "code",
      "source": [
        "fig = plt.figure()\n",
        "plt.plot(hist.history['loss'], color='teal', label='loss')\n",
        "plt.plot(hist.history['val_loss'], color='orange', label='val_loss')\n",
        "fig.suptitle('Loss', fontsize=20)\n",
        "plt.legend(loc=\"upper left\")\n",
        "plt.show()"
      ],
      "metadata": {
        "colab": {
          "base_uri": "https://localhost:8080/",
          "height": 478
        },
        "id": "HV8dcD9TSHZE",
        "outputId": "cff02b8d-1ad7-431b-8c18-50a34f24399b"
      },
      "execution_count": null,
      "outputs": [
        {
          "output_type": "display_data",
          "data": {
            "text/plain": [
              "<Figure size 640x480 with 1 Axes>"
            ],
            "image/png": "[encoded data removed]"
          },
          "metadata": {}
        }
      ]
    },
    {
      "cell_type": "code",
      "source": [],
      "metadata": {
        "id": "NUMsQF2iSJDe"
      },
      "execution_count": null,
      "outputs": []
    },
    {
      "cell_type": "code",
      "source": [
        "fig = plt.figure()\n",
        "plt.plot(hist.history['accuracy'], color='teal', label='accuracy')\n",
        "plt.plot(hist.history['val_accuracy'], color='orange', label='val_accuracy')\n",
        "fig.suptitle('Accuracy', fontsize=20)\n",
        "plt.legend(loc=\"upper left\")\n",
        "plt.show()"
      ],
      "metadata": {
        "colab": {
          "base_uri": "https://localhost:8080/",
          "height": 478
        },
        "id": "95a1TsuBSTzx",
        "outputId": "3e7135f3-c5af-4bed-cede-cd59b6df4801"
      },
      "execution_count": null,
      "outputs": [
        {
          "output_type": "display_data",
          "data": {
            "text/plain": [
              "<Figure size 640x480 with 1 Axes>"
            ],
            "image/png": "[encoded data removed]"
          },
          "metadata": {}
        }
      ]
    },
    {
      "cell_type": "code",
      "source": [
        "from tensorflow.keras.metrics import Precision, Recall, BinaryAccuracy\n",
        "pre = Precision()\n",
        "re = Recall()\n",
        "acc = BinaryAccuracy()\n",
        "for batch in test.as_numpy_iterator():\n",
        "    X, y = batch\n",
        "    yhat = model.predict(X)\n",
        "    pre.update_state(y, yhat)\n",
        "    re.update_state(y, yhat)\n",
        "    acc.update_state(y, yhat)\n",
        "print(pre.result(), re.result(), acc.result())"
      ],
      "metadata": {
        "colab": {
          "base_uri": "https://localhost:8080/"
        },
        "id": "Y9SOrCpbSU_5",
        "outputId": "c163ce50-6cf8-4d04-85c1-0f57ee889988"
      },
      "execution_count": null,
      "outputs": [
        {
          "output_type": "stream",
          "name": "stdout",
          "text": [
            "1/1 [==============================] - 0s 473ms/step\n",
            "1/1 [==============================] - 0s 354ms/step\n",
            "1/1 [==============================] - 0s 339ms/step\n",
            "1/1 [==============================] - 0s 349ms/step\n",
            "1/1 [==============================] - 0s 266ms/step\n",
            "tf.Tensor(0.9125, shape=(), dtype=float32) tf.Tensor(0.9125, shape=(), dtype=float32) tf.Tensor(0.97083336, shape=(), dtype=float32)\n"
          ]
        }
      ]
    }
  ]
}